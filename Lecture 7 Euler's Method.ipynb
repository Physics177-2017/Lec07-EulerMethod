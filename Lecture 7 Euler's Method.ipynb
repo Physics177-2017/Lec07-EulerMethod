{
 "cells": [
  {
   "cell_type": "markdown",
   "metadata": {},
   "source": [
    "# Lec 7: ODEs\n",
    "Prof. Flip Tanedo  \n",
    "25 April 2017"
   ]
  },
  {
   "cell_type": "code",
   "execution_count": 2,
   "metadata": {
    "collapsed": true
   },
   "outputs": [],
   "source": [
    "from math import sin\n",
    "from numpy import arange"
   ]
  },
  {
   "cell_type": "code",
   "execution_count": 3,
   "metadata": {
    "collapsed": true
   },
   "outputs": [],
   "source": [
    "#help(arange)"
   ]
  },
  {
   "cell_type": "code",
   "execution_count": 4,
   "metadata": {},
   "outputs": [
    {
     "name": "stdout",
     "output_type": "stream",
     "text": [
      "0.9999996829318346\n",
      "-1.0\n"
     ]
    }
   ],
   "source": [
    "def f(x,t):\n",
    "    return -x**3 + sin(t)\n",
    "\n",
    "print(f(0,3.14/2))  # Expect approx 1\n",
    "print(f(1,0))       # Expect -1.0"
   ]
  },
  {
   "cell_type": "code",
   "execution_count": 5,
   "metadata": {
    "collapsed": true
   },
   "outputs": [],
   "source": [
    "# range of interval\n",
    "a, b = 0.0, 10.0\n",
    "\n",
    "# number of steps\n",
    "N = 100\n",
    "\n",
    "# size of each step\n",
    "dt = (b-a)/N\n",
    "\n",
    "# initial condition\n",
    "x0 = 0.0"
   ]
  },
  {
   "cell_type": "code",
   "execution_count": 6,
   "metadata": {},
   "outputs": [
    {
     "name": "stdout",
     "output_type": "stream",
     "text": [
      "[ 0.   0.1  0.2  0.3  0.4  0.5  0.6  0.7  0.8  0.9  1.   1.1  1.2  1.3  1.4\n",
      "  1.5  1.6  1.7  1.8  1.9  2.   2.1  2.2  2.3  2.4  2.5  2.6  2.7  2.8  2.9\n",
      "  3.   3.1  3.2  3.3  3.4  3.5  3.6  3.7  3.8  3.9  4.   4.1  4.2  4.3  4.4\n",
      "  4.5  4.6  4.7  4.8  4.9  5.   5.1  5.2  5.3  5.4  5.5  5.6  5.7  5.8  5.9\n",
      "  6.   6.1  6.2  6.3  6.4  6.5  6.6  6.7  6.8  6.9  7.   7.1  7.2  7.3  7.4\n",
      "  7.5  7.6  7.7  7.8  7.9  8.   8.1  8.2  8.3  8.4  8.5  8.6  8.7  8.8  8.9\n",
      "  9.   9.1  9.2  9.3  9.4  9.5  9.6  9.7  9.8  9.9]\n"
     ]
    }
   ],
   "source": [
    "# discrete points in time\n",
    "tsteps = arange(a, b, dt)\n",
    "print(tsteps)"
   ]
  },
  {
   "cell_type": "code",
   "execution_count": 8,
   "metadata": {},
   "outputs": [],
   "source": [
    "# initialize x(t) list, to be filled in\n",
    "xpoints = []\n",
    "\n",
    "# fill it in:\n",
    "x = x0\n",
    "for t in tsteps:\n",
    "    xpoints.append(x)\n",
    "    x += dt*f(x,t)"
   ]
  },
  {
   "cell_type": "code",
   "execution_count": 9,
   "metadata": {
    "collapsed": true
   },
   "outputs": [],
   "source": [
    "#print(xpoints)"
   ]
  },
  {
   "cell_type": "code",
   "execution_count": 10,
   "metadata": {
    "collapsed": true
   },
   "outputs": [],
   "source": [
    "import numpy as np\n",
    "\n",
    "# turn these into numpy arrays\n",
    "tt = np.array(tsteps)\n",
    "xx = np.array(xpoints)"
   ]
  },
  {
   "cell_type": "code",
   "execution_count": 11,
   "metadata": {},
   "outputs": [
    {
     "name": "stdout",
     "output_type": "stream",
     "text": [
      "[ 0.   0.1  0.2  0.3  0.4  0.5  0.6  0.7  0.8  0.9  1.   1.1  1.2  1.3  1.4\n",
      "  1.5  1.6  1.7  1.8  1.9  2.   2.1  2.2  2.3  2.4  2.5  2.6  2.7  2.8  2.9\n",
      "  3.   3.1  3.2  3.3  3.4  3.5  3.6  3.7  3.8  3.9  4.   4.1  4.2  4.3  4.4\n",
      "  4.5  4.6  4.7  4.8  4.9  5.   5.1  5.2  5.3  5.4  5.5  5.6  5.7  5.8  5.9\n",
      "  6.   6.1  6.2  6.3  6.4  6.5  6.6  6.7  6.8  6.9  7.   7.1  7.2  7.3  7.4\n",
      "  7.5  7.6  7.7  7.8  7.9  8.   8.1  8.2  8.3  8.4  8.5  8.6  8.7  8.8  8.9\n",
      "  9.   9.1  9.2  9.3  9.4  9.5  9.6  9.7  9.8  9.9]\n",
      "[ 0.          0.          0.00998334  0.02985018  0.05939954  0.09832041\n",
      "  0.14616792  0.20231988  0.26591349  0.33576882  0.41031603  0.48755508\n",
      "  0.56508615  0.64024559  0.71035682  0.7730567   0.82660705  0.87008406\n",
      "  0.90338116  0.92704121  0.94200079  0.94934064  0.95010247  0.94518687\n",
      "  0.93531645  0.92103971  0.90275382  0.88073273  0.85515315  0.82611573\n",
      "  0.79366098  0.75778045  0.7184244   0.67550669  0.62890812  0.57847909\n",
      "  0.52404266  0.46539932  0.40233532  0.33463678  0.26211284  0.18463179\n",
      "  0.10217469  0.01491045 -0.07670648 -0.17182155 -0.2690673  -0.36648843\n",
      " -0.46155831 -0.55134191 -0.6328276  -0.70337713 -0.76115976 -0.80540636\n",
      " -0.83638805 -0.85515539 -0.8631727  -0.86198721 -0.85300822 -0.8374016\n",
      " -0.81606719 -0.78966147 -0.75863718 -0.72328424 -0.68376495 -0.64014166\n",
      " -0.59239785 -0.54045439 -0.48418321 -0.42342101 -0.35798571 -0.28769933\n",
      " -0.21242111 -0.13209583 -0.04682167  0.04305941  0.13685142  0.23338709\n",
      "  0.33093267  0.42716274  0.51926252  0.60419729  0.67912978  0.7418802\n",
      "  0.79126532  0.82718403  0.85043404  0.86236712  0.86453178  0.85840708\n",
      "  0.84525635  0.82607816  0.801616    0.77239409  0.73875907  0.70091773\n",
      "  0.65896754  0.61291997  0.56271829  0.50825179]\n"
     ]
    }
   ],
   "source": [
    "# Make sure these look like arrays\n",
    "print(tt)\n",
    "print(xx)"
   ]
  },
  {
   "cell_type": "code",
   "execution_count": 12,
   "metadata": {},
   "outputs": [
    {
     "data": {
      "image/png": "[encoded data removed]",
      "text/plain": [
       "<matplotlib.figure.Figure at 0x110d7c198>"
      ]
     },
     "metadata": {},
     "output_type": "display_data"
    }
   ],
   "source": [
    "# make a plot\n",
    "import matplotlib.pyplot as plt\n",
    "\n",
    "plt.plot(tt,xx)\n",
    "plt.xlabel('time')\n",
    "plt.ylabel('position')\n",
    "plt.title(\"Euler Method\")\n",
    "plt.show()"
   ]
  },
  {
   "cell_type": "markdown",
   "metadata": {},
   "source": [
    "Result is not a function! It's a series of points that we can \"connect the dots\" to get the general behavior."
   ]
  }
 ],
 "metadata": {
  "kernelspec": {
   "display_name": "Python 3",
   "language": "python",
   "name": "python3"
  },
  "language_info": {
   "codemirror_mode": {
    "name": "ipython",
    "version": 3
   },
   "file_extension": ".py",
   "mimetype": "text/x-python",
   "name": "python",
   "nbconvert_exporter": "python",
   "pygments_lexer": "ipython3",
   "version": "3.4.3"
  }
 },
 "nbformat": 4,
 "nbformat_minor": 2
}
